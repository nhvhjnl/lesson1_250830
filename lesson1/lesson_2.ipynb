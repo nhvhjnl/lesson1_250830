{
 "cells": [
  {
   "cell_type": "code",
   "execution_count": null,
   "id": "aa2f1959",
   "metadata": {},
   "outputs": [],
   "source": [
    "x=\"abc\"\n",
    "print(type(x))\n",
    "\n",
    "y=10\n",
    "print(type(y))\n",
    "\n",
    "z=10.5\n",
    "print(type(z))\n",
    "\n",
    "a=True\n",
    "print(type(a))\n"
   ]
  },
  {
   "cell_type": "code",
   "execution_count": null,
   "id": "b32b075b",
   "metadata": {},
   "outputs": [],
   "source": [
    "print(x,type(x),sep='')\n"
   ]
  },
  {
   "cell_type": "code",
   "execution_count": null,
   "id": "84580420",
   "metadata": {},
   "outputs": [],
   "source": [
    "print(f\"{x},{type(x)}\")"
   ]
  },
  {
   "cell_type": "code",
   "execution_count": null,
   "id": "2a081389",
   "metadata": {},
   "outputs": [],
   "source": [
    "s = 7\n",
    "b = 3\n",
    "\n",
    "c= s + b\n",
    "d= s - b\n",
    "e= s * b\n",
    "f= s / b\n",
    "g= s % b\n",
    "h= s ** b\n",
    "\n",
    "print(f\"加法 s + b =, {c}\")\n",
    "print(f\"減法 s - b =, {d}\")\n",
    "print(f\"乘法 s * b =, {e}\")\n",
    "print(f\"除法 s / b =, {f}\")\n",
    "print(f\"取餘數 s % b =, {g}\")\n",
    "print(f\"次方 s ** b =, {h}\")"
   ]
  },
  {
   "cell_type": "code",
   "execution_count": null,
   "id": "5f5e9d1a",
   "metadata": {},
   "outputs": [],
   "source": [
    "a1=3\n",
    "a2=4\n",
    "print((a1**2+a2**2)**0.5)\n"
   ]
  },
  {
   "cell_type": "code",
   "execution_count": null,
   "id": "1954b3f1",
   "metadata": {},
   "outputs": [],
   "source": [
    "name=[\"小明\",\"小華\",\"小英\",\"小李\",\"小陳\"]\n",
    "sc=[10,20,65,50,70]\n",
    "for i in range(0, 5):\n",
    "    if sc[i]>=60 and sc[i]<70:\n",
    "        print(f\"第{i+1}位同學{name[i]}及格\")\n",
    "    elif sc[i]>=70:\n",
    "        print(f\"第{i+1}位同學{name[i]}很優秀\")\n",
    "    else:\n",
    "        print(f\"第{i+1}位同學{name[i]}不及格\")"
   ]
  },
  {
   "cell_type": "code",
   "execution_count": null,
   "id": "c956455c",
   "metadata": {},
   "outputs": [
    {
     "name": "stdout",
     "output_type": "stream",
     "text": [
      "高度為5的聖誕樹:\n",
      "    *\n",
      "   ***\n",
      "  *****\n",
      " *******\n",
      "*********\n",
      "    *\n",
      "    *\n"
     ]
    }
   ],
   "source": [
    "def print_christmas_tree(height=5):\n",
    "\n",
    "    # print樹冠部分\n",
    "    for i in range(height):\n",
    "        # 計算每行的星號數量（奇數）\n",
    "        stars = 2 * i + 1\n",
    "        # 計算前導空格數量來置中\n",
    "        spaces = height - i - 1\n",
    "        # print空格和星號\n",
    "        print(' ' * spaces + '*' * stars)\n",
    "    \n",
    "    # print樹幹部分\n",
    "    trunk_width = 1\n",
    "    trunk_height = 2\n",
    "    trunk_spaces = height - 1\n",
    "    \n",
    "    for _ in range(trunk_height):\n",
    "        print(' ' * trunk_spaces + '*' * trunk_width)\n",
    "\n",
    "\n"
   ]
  },
  {
   "cell_type": "code",
   "execution_count": 7,
   "id": "9a6e18fb",
   "metadata": {},
   "outputs": [
    {
     "name": "stdout",
     "output_type": "stream",
     "text": [
      "*\n",
      "*\n",
      "*\n"
     ]
    }
   ],
   "source": [
    "print_christmas_tree(1)"
   ]
  },
  {
   "cell_type": "code",
   "execution_count": 8,
   "id": "863bd0f3",
   "metadata": {},
   "outputs": [
    {
     "name": "stdout",
     "output_type": "stream",
     "text": [
      "面積35.28\n",
      "周長70.56\n"
     ]
    }
   ],
   "source": [
    "import math\n",
    "def cc(radius):\n",
    "    area=math.pi*radius\n",
    "    cir=2*math.pi*radius\n",
    "    return area,cir\n",
    "\n",
    "radius=float(input(\"半徑:\"))\n",
    "area,cir=cc(radius)\n",
    "print(f\"面積{area:.2f}\")\n",
    "print(f\"周長{cir:.2f}\")"
   ]
  },
  {
   "cell_type": "code",
   "execution_count": null,
   "id": "3eba80a9",
   "metadata": {},
   "outputs": [],
   "source": []
  }
 ],
 "metadata": {
  "kernelspec": {
   "display_name": "myenv",
   "language": "python",
   "name": "python3"
  },
  "language_info": {
   "codemirror_mode": {
    "name": "ipython",
    "version": 3
   },
   "file_extension": ".py",
   "mimetype": "text/x-python",
   "name": "python",
   "nbconvert_exporter": "python",
   "pygments_lexer": "ipython3",
   "version": "3.11.13"
  }
 },
 "nbformat": 4,
 "nbformat_minor": 5
}
